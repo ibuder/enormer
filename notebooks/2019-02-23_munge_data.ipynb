{
 "cells": [
  {
   "cell_type": "markdown",
   "metadata": {},
   "source": [
    "## Convert .eml to .txt"
   ]
  },
  {
   "cell_type": "code",
   "execution_count": 17,
   "metadata": {
    "collapsed": true
   },
   "outputs": [],
   "source": [
    "import os\n",
    "import email\n",
    "from email import policy\n",
    "import pathlib"
   ]
  },
  {
   "cell_type": "code",
   "execution_count": 3,
   "metadata": {
    "collapsed": true
   },
   "outputs": [],
   "source": [
    "path = \"D:/Notebooks/email_urgent/data/sample/not/[in case you missed it] Data Science Weekly - Issue 266 - DataScienceWeekly.org (team@datascienceweekly.org) - 2018-12-30 1614.eml\"\n",
    "with open(path, \"rb\") as f:\n",
    "    msg = email.message_from_binary_file(f, policy=policy.default)"
   ]
  },
  {
   "cell_type": "code",
   "execution_count": 5,
   "metadata": {},
   "outputs": [
    {
     "data": {
      "text/plain": [
       "'Curated news, articles and jobs related to Data Science.\\nKeep up with all the latest developments\\n------------------------------------------------------------\\nEmail not displaying correctly?\\nView it in your browser (https://datascienceweekly.us3.list-manage.com/track/click?u=71a2b2a38789d4d25b738462f&id=77c17627fa&e=c0bb1c42db) .\\n\\n\\n**\\n------------------------------------------------------------\\n\\n\\n** Issue #266\\n\\nDec 27 2018\\n------------------------------------------------------------\\nEditor Picks\\n\\n* The Netflix Data War (https://datascienceweekly.us3.list-manage.com/track/click?u=71a2b2a38789d4d25b738462f&id=3b303d8539&e=c0bb1c42db)\\nA recent article in the Wall Street Journal, “At Netflix, Who Wins When It’s Hollywood vs. the Algorithm?” by Shalini Ramachandran and Joe Flint details some of the internal debates within Netflix between the Los Angeles-based content team, which is in charge of developing and marketing new content for the streaming service, and the data team. I thought it was a useful place to launch a discussion about the activity of a data team and how it interfaces with other aspects of a company...\\n\\n* We tried teaching an AI to write Christmas movie plots. Hilarity ensued. Eventually. (https://datascienceweekly.us3.list-manage.com/track/click?u=71a2b2a38789d4d25b738462f&id=999afcb99a&e=c0bb1c42db)\\nUsing a neural network to create ridiculous plot lines takes a lot of work—and reveals the challenges of generating human language...\\n\\n* Why Data Is Never Raw (https://datascienceweekly.us3.list-manage.com/track/click?u=71a2b2a38789d4d25b738462f&id=831eac9f2a&e=c0bb1c42db)\\nOn the seductive myth of information free of human judgment...\\n\\n\\n------------------------------------------------------------\\n\\n\\n\\n** A Message from this week\\'s Sponsor:\\n------------------------------------------------------------\\n\\n\\n** https://datascienceweekly.us3.list-manage.com/track/click?u=71a2b2a38789d4d25b738462f&id=193223f9d3&e=c0bb1c42db\\n------------------------------------------------------------\\n\\nSave the Date | Rev Summit for Data Science Leaders | May 23-24, 2019 (https://datascienceweekly.us3.list-manage.com/track/click?u=71a2b2a38789d4d25b738462f&id=751150a2d8&e=c0bb1c42db)\\n\\nJoin Daniel Kahneman -- world-renowned psychologist and author of Thinking, Fast and Slow -- along with data science leaders from Netflix, Nike, Google, Slack, Turner Broadcasting System, Lloyds Banking Group and more at this year’s Rev Summit for Data Science Leaders in New York City, May 23-24. This year’s event, co-chaired by Derwen’s Paco Nathan and Domino Data Lab, will focus on providing practical guidance to teams aspiring to make data science an enterprise-grade capability. Teams of 4+ get a 50% discount.\\n\\nApply to speak or register to attend today. (https://datascienceweekly.us3.list-manage.com/track/click?u=71a2b2a38789d4d25b738462f&id=c5c69e68a9&e=c0bb1c42db)\\n\\n\\n------------------------------------------------------------\\n\\n\\n\\n** Data Science Articles & Videos\\n------------------------------------------------------------\\n\\n* One Giant Step for a Chess-Playing Machine (https://datascienceweekly.us3.list-manage.com/track/click?u=71a2b2a38789d4d25b738462f&id=716f4d8f77&e=c0bb1c42db)\\nThe stunning success of AlphaZero, a deep-learning algorithm, heralds a new age of insight — one that, for humans, may not last long...\\n\\n* Trends in Deep Learning with Jeremy Howard (https://datascienceweekly.us3.list-manage.com/track/click?u=71a2b2a38789d4d25b738462f&id=4f15f65def&e=c0bb1c42db)\\nIn this episode of our AI Rewind series, we’re bringing back one of your favorite guests of the year, Jeremy Howard, founder and researcher at Fast.ai. Jeremy joins us to discuss trends in Deep Learning in 2018 and beyond. We cover many of the papers, tools and techniques that have contributed to making deep learning more accessible than ever to so many developers and data scientists...\\n\\n* The year in AI/ML advances: 2018 roundup (https://datascienceweekly.us3.list-manage.com/track/click?u=71a2b2a38789d4d25b738462f&id=a9c0f95daa&e=c0bb1c42db)\\nIt has become a sort of tradition for me to try to summarize ML advances at this time of the year. As always, this summary will necessarily be biased by my own interests and focus, but I have tried to keep it as broad as possible...\\n\\n* Photo Wake-Up: 3D Character Animation from a Single Photo (https://datascienceweekly.us3.list-manage.com/track/click?u=71a2b2a38789d4d25b738462f&id=0058b378f3&e=c0bb1c42db)\\nWe present a method and application for animating a human subject from a single photo. E.g., the character can walk out, run, sit, or jump in 3D. The key contributions of this paper are: 1) an application of viewing and animating humans in single photos in 3D, 2) a novel 2D warping method to deform a posable template body model to fit the person\\'s complex silhouette to create an animatable mesh, and 3) a method for handling partial self occlusions...\\n\\n* Neuroevolution-Bots (https://datascienceweekly.us3.list-manage.com/track/click?u=71a2b2a38789d4d25b738462f&id=37ccd9b4fd&e=c0bb1c42db)\\nNeuroevolution-Bots is a personal project that demonstrates neuroevolution in a browser environment using TensorFlow.js, Neataptic (for neural nets) and HTML5 Canvas (for graphics). I tried to create a scaled down 2D version of the popular Gym’s Humanoid-v2 environment using Planck.js, a JavaScript rewrite of Box2D...\\n\\n* DeepSolar: A Machine Learning Framework to Efficiently Construct a Solar Deployment Database in the United States (https://datascienceweekly.us3.list-manage.com/track/click?u=71a2b2a38789d4d25b738462f&id=840c323cca&e=c0bb1c42db(18)30570-1)\\nHow deep learning helped to map every solar panel in the US...\\n\\n* Super SloMo: High Quality Estimation of Multiple Intermediate Frames for Video Interpolation (https://datascienceweekly.us3.list-manage.com/track/click?u=71a2b2a38789d4d25b738462f&id=9f054dccf0&e=c0bb1c42db)\\nCreating super slow motion videos by predicting missing frames using a neural network, instead of simple interpolation. With code...\\n\\n* Massively Multilingual Sentence Embeddings for Zero-Shot Cross-Lingual Transfer and Beyond (https://datascienceweekly.us3.list-manage.com/track/click?u=71a2b2a38789d4d25b738462f&id=d1aa4378c1&e=c0bb1c42db)\\nWe introduce an architecture to learn joint multilingual sentence representations for 93 languages, belonging to more than 30 different language families and written in 28 different scripts. Our system uses a single BiLSTM encoder with a shared BPE vocabulary for all languages, which is coupled with an auxiliary decoder and trained on publicly available parallel corpora. This enables us to learn a classifier on top of the resulting sentence embeddings using English annotated data only, and transfer it to any of the 93 languages without any modification...\\n\\n\\n------------------------------------------------------------\\n\\n\\n\\n** Jobs\\n------------------------------------------------------------\\n* Senior Data Scientist/Machine Learning Engineer - PepsiCo eCommerce - NYC (https://datascienceweekly.us3.list-manage.com/track/click?u=71a2b2a38789d4d25b738462f&id=1e21eb26c8&e=c0bb1c42db)\\nWant to build an RL system with real money against business experts? Apply now! PepsiCo operates in an environment undergoing immense and rapid change, driven by eCommerce and emergent retail technologies. To ensure continued success in the food and beverage space, PepsiCo has assembled a dedicated eCommerce team – tasked with optimizing eCommerce operations and developing innovations that will give PepsiCo a sustainable competitive advantage. While tied closely to broader PepsiCo, the eCommerce group more closely resembles a start-up environment; embracing the core values of having bias for action, being results oriented, maintaining a community-focus, and prioritizing people\\nPepsiCo’s Data Science and Analytics group is a team of data scientists, technology specialists, and business innovators who operate within eCommerce to build industry-leading systems and solutions. By focusing on machine learning and automation, the Data Science & Analytics group is pushing the bounds of possibility for PepsiCo and its strategic partners...\\n\\n\\n------------------------------------------------------------\\n\\n\\n\\n** Training & Resources\\n------------------------------------------------------------\\n\\n* PyTorch item: Convert A 0-dim PyTorch Tensor To A Python Number (https://datascienceweekly.us3.list-manage.com/track/click?u=71a2b2a38789d4d25b738462f&id=8c0b66bcec&e=c0bb1c42db)\\nLearn how to use PyTorch\\'s item operation to convert a 0-dim PyTorch Tensor to a Python number, via a screencast video and full tutorial transcript...\\n\\n* Deep Graph Infomax (https://datascienceweekly.us3.list-manage.com/track/click?u=71a2b2a38789d4d25b738462f&id=eaf70d56b8&e=c0bb1c42db)\\nGeneral approach for learning node representations within graph-structured data in an unsupervised manner based upon mutual information, rather than random walks...\\n\\n* Introducing Pandas-Sets: Set-oriented Operations in Pandas (https://datascienceweekly.us3.list-manage.com/track/click?u=71a2b2a38789d4d25b738462f&id=f6a11bfbc3&e=c0bb1c42db)\\nI frequently find myself storing standard Python set objects in DataFrame columns. This usually happens when I have some kind of a tags or labels column for each observation. It can also be the output of a groupby operation where the end result needs to be a list-like (or set-like) object before it\\'s aggregated. Using set operations (union, intersection etc.) can come in handy in such cases...\\n\\n\\n------------------------------------------------------------\\n\\n\\n\\n** Books\\n------------------------------------------------------------\\n\\n\\n\\n** https://datascienceweekly.us3.list-manage.com/track/click?u=71a2b2a38789d4d25b738462f&id=166af1c6bd&e=c0bb1c42db\\n------------------------------------------------------------\\n*\\n** Math for Machine Learning: Open Doors to Data Science and Artificial Intelligence (https://datascienceweekly.us3.list-manage.com/track/click?u=71a2b2a38789d4d25b738462f&id=f46e2ec6b2&e=c0bb1c42db)\\n------------------------------------------------------------\\nFrom self-driving cars and recommender systems to speech and face recognition, machine learning is the way of the future. Would you like to learn the mathematics behind machine learning to enter the exciting fields of data science and artificial intelligence? There aren\\'t many resources out there that give simple detailed examples and that walk you through the topics step by step.\\nThis book not only explains what kind of math is involved and the confusing notation, it also introduces you directly to the foundational topics in machine learning. This book will get you started in machine learning in a smooth and natural way, preparing you for more advanced topics and dispelling the belief that machine learning is complicated, difficult, and intimidating.\\nPraise from students\\n\"Your book is by far the best I’ve found for understanding the derivations of machine learning algorithms. I love that you don’t skip steps and that you provide clear examples.\"--Robert H\"\\nLink to preview of first 2 chapters and table of contentsavailable here (https://datascienceweekly.us3.list-manage.com/track/click?u=71a2b2a38789d4d25b738462f&id=f76ea0c93a&e=c0bb1c42db)\\nFor a detailed list of books covering Data Science, Machine Learning, AI and associated programming languages check out our resources page (https://datascienceweekly.us3.list-manage.com/track/click?u=71a2b2a38789d4d25b738462f&id=7b4a2f19d5&e=c0bb1c42db) .\\n\\n------------------------------------------------------------\\n\\nP.S., Want to reach our audience / fellow readers? Consider sponsoring - grab a spot now; first come first served! All the best, Hannah & Sebastian\\n\\n============================================================\\n** Follow on Twitter (https://datascienceweekly.us3.list-manage.com/track/click?u=71a2b2a38789d4d25b738462f&id=4f2d383e2a&e=c0bb1c42db)\\nCopyright © 2013-2017 DataScienceWeekly.org, All rights reserved.\\n** unsubscribe from this list (https://datascienceweekly.us3.list-manage.com/unsubscribe?u=71a2b2a38789d4d25b738462f&id=b63d6b814f&e=c0bb1c42db&c=eb94e0fd2c)\\n** update subscription preferences (https://datascienceweekly.us3.list-manage.com/profile?u=71a2b2a38789d4d25b738462f&id=b63d6b814f&e=c0bb1c42db)'"
      ]
     },
     "execution_count": 5,
     "metadata": {},
     "output_type": "execute_result"
    }
   ],
   "source": [
    "msg.get_body((\"plain\",)).get_content()"
   ]
  },
  {
   "cell_type": "code",
   "execution_count": 8,
   "metadata": {},
   "outputs": [
    {
     "data": {
      "text/plain": [
       "'\\n'"
      ]
     },
     "execution_count": 8,
     "metadata": {},
     "output_type": "execute_result"
    }
   ],
   "source": [
    "msg.get_body((\"plain\",)).get_content()[56]"
   ]
  },
  {
   "cell_type": "code",
   "execution_count": 9,
   "metadata": {},
   "outputs": [
    {
     "data": {
      "text/plain": [
       "'[in case you missed it] Data Science Weekly - Issue 266'"
      ]
     },
     "execution_count": 9,
     "metadata": {},
     "output_type": "execute_result"
    }
   ],
   "source": [
    "msg[\"Subject\"]"
   ]
  },
  {
   "cell_type": "code",
   "execution_count": 10,
   "metadata": {},
   "outputs": [
    {
     "data": {
      "text/plain": [
       "'Mon, 31 Dec 2018 00:14:53 +0000'"
      ]
     },
     "execution_count": 10,
     "metadata": {},
     "output_type": "execute_result"
    }
   ],
   "source": [
    "msg[\"date\"]"
   ]
  },
  {
   "cell_type": "code",
   "execution_count": 13,
   "metadata": {},
   "outputs": [],
   "source": [
    "fnm = os.path.splitext(path)[0] + '.txt'"
   ]
  },
  {
   "cell_type": "code",
   "execution_count": 14,
   "metadata": {},
   "outputs": [
    {
     "data": {
      "text/plain": [
       "'D:/Notebooks/email_urgent/data/sample/not/[in case you missed it] Data Science Weekly - Issue 266 - DataScienceWeekly.org (team@datascienceweekly.org) - 2018-12-30 1614.txt'"
      ]
     },
     "execution_count": 14,
     "metadata": {},
     "output_type": "execute_result"
    }
   ],
   "source": [
    "fnm"
   ]
  },
  {
   "cell_type": "code",
   "execution_count": 15,
   "metadata": {},
   "outputs": [
    {
     "name": "stdout",
     "output_type": "stream",
     "text": [
      "foo bar\n"
     ]
    }
   ],
   "source": [
    "print(\"foo\", \"bar\")"
   ]
  },
  {
   "cell_type": "code",
   "execution_count": 16,
   "metadata": {
    "collapsed": true
   },
   "outputs": [],
   "source": [
    "with open(fnm, 'w') as f:\n",
    "    print(\"Date:\", msg[\"date\"], file=f)\n",
    "    print(\"Subject:\", msg[\"subject\"], file=f)\n",
    "    print(\"Body:\", msg.get_body((\"plain\",)).get_content(), file=f)"
   ]
  },
  {
   "cell_type": "code",
   "execution_count": 18,
   "metadata": {},
   "outputs": [
    {
     "data": {
      "text/plain": [
       "WindowsPath('D:/Notebooks/email_urgent/data/sample/not/[in case you missed it] Data Science Weekly - Issue 266 - DataScienceWeekly.org (team@datascienceweekly.org) - 2018-12-30 1614.eml')"
      ]
     },
     "execution_count": 18,
     "metadata": {},
     "output_type": "execute_result"
    }
   ],
   "source": [
    "p = pathlib.Path(path)\n",
    "p"
   ]
  },
  {
   "cell_type": "code",
   "execution_count": 19,
   "metadata": {},
   "outputs": [
    {
     "data": {
      "text/plain": [
       "('D:\\\\',\n",
       " 'Notebooks',\n",
       " 'email_urgent',\n",
       " 'data',\n",
       " 'sample',\n",
       " 'not',\n",
       " '[in case you missed it] Data Science Weekly - Issue 266 - DataScienceWeekly.org (team@datascienceweekly.org) - 2018-12-30 1614.eml')"
      ]
     },
     "execution_count": 19,
     "metadata": {},
     "output_type": "execute_result"
    }
   ],
   "source": [
    "p.parts"
   ]
  },
  {
   "cell_type": "code",
   "execution_count": 20,
   "metadata": {},
   "outputs": [
    {
     "data": {
      "text/plain": [
       "('D:\\\\', 'Notebooks', 'email_urgent', 'data', 'sample')"
      ]
     },
     "execution_count": 20,
     "metadata": {},
     "output_type": "execute_result"
    }
   ],
   "source": [
    "p.parts[:-2]"
   ]
  },
  {
   "cell_type": "code",
   "execution_count": 22,
   "metadata": {},
   "outputs": [
    {
     "data": {
      "text/plain": [
       "('D:\\\\',\n",
       " 'Notebooks',\n",
       " 'email_urgent',\n",
       " 'data',\n",
       " 'sample',\n",
       " 'v1',\n",
       " 'not',\n",
       " '[in case you missed it] Data Science Weekly - Issue 266 - DataScienceWeekly.org (team@datascienceweekly.org) - 2018-12-30 1614.eml')"
      ]
     },
     "execution_count": 22,
     "metadata": {},
     "output_type": "execute_result"
    }
   ],
   "source": [
    "p.parts[:-2] + (\"v1\",) + p.parts[-2:]"
   ]
  },
  {
   "cell_type": "code",
   "execution_count": 26,
   "metadata": {},
   "outputs": [
    {
     "data": {
      "text/plain": [
       "WindowsPath('D:/Notebooks/email_urgent/data/sample/v1/not/[in case you missed it] Data Science Weekly - Issue 266 - DataScienceWeekly.org (team@datascienceweekly.org) - 2018-12-30 1614.eml')"
      ]
     },
     "execution_count": 26,
     "metadata": {},
     "output_type": "execute_result"
    }
   ],
   "source": [
    "pathlib.Path(*(p.parts[:-2] + (\"v1\",) + p.parts[-2:]))"
   ]
  },
  {
   "cell_type": "code",
   "execution_count": 28,
   "metadata": {},
   "outputs": [
    {
     "data": {
      "text/plain": [
       "WindowsPath('D:/Notebooks/email_urgent/data/sample/v1/not/[in case you missed it] Data Science Weekly - Issue 266 - DataScienceWeekly.org (team@datascienceweekly.org) - 2018-12-30 1614.txt')"
      ]
     },
     "execution_count": 28,
     "metadata": {},
     "output_type": "execute_result"
    }
   ],
   "source": [
    "newpath = pathlib.Path(*(p.parts[:-2] + (\"v1\",) + p.parts[-2:])).with_suffix(\".txt\")\n",
    "newpath"
   ]
  },
  {
   "cell_type": "code",
   "execution_count": 30,
   "metadata": {},
   "outputs": [],
   "source": [
    "with open(newpath, 'w') as f:\n",
    "    print(\"Date:\", msg[\"date\"], file=f)\n",
    "    print(\"Subject:\", msg[\"subject\"], file=f)\n",
    "    print(\"Body:\", msg.get_body((\"plain\",)).get_content(), file=f)"
   ]
  },
  {
   "cell_type": "code",
   "execution_count": null,
   "metadata": {
    "collapsed": true
   },
   "outputs": [],
   "source": []
  }
 ],
 "metadata": {
  "kernelspec": {
   "display_name": "Python [conda root]",
   "language": "python",
   "name": "conda-root-py"
  },
  "language_info": {
   "codemirror_mode": {
    "name": "ipython",
    "version": 3
   },
   "file_extension": ".py",
   "mimetype": "text/x-python",
   "name": "python",
   "nbconvert_exporter": "python",
   "pygments_lexer": "ipython3",
   "version": "3.6.3"
  }
 },
 "nbformat": 4,
 "nbformat_minor": 2
}
