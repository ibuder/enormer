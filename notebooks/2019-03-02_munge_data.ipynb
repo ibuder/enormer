{
 "cells": [
  {
   "cell_type": "markdown",
   "metadata": {},
   "source": [
    "# Convert all emails to .txt"
   ]
  },
  {
   "cell_type": "code",
   "execution_count": 1,
   "metadata": {
    "collapsed": true
   },
   "outputs": [],
   "source": [
    "import os\n",
    "import email\n",
    "from email import policy\n",
    "import pathlib"
   ]
  },
  {
   "cell_type": "code",
   "execution_count": 2,
   "metadata": {
    "collapsed": true
   },
   "outputs": [],
   "source": [
    "import glob"
   ]
  },
  {
   "cell_type": "code",
   "execution_count": 5,
   "metadata": {},
   "outputs": [],
   "source": [
    "paths = glob.glob(\"D:/Notebooks/email_urgent/data/not/*.eml\") + glob.glob(\"D:/Notebooks/email_urgent/data/urgent/*.eml\")"
   ]
  },
  {
   "cell_type": "code",
   "execution_count": 10,
   "metadata": {},
   "outputs": [
    {
     "data": {
      "text/plain": [
       "325"
      ]
     },
     "execution_count": 10,
     "metadata": {},
     "output_type": "execute_result"
    }
   ],
   "source": [
    "len(paths)"
   ]
  },
  {
   "cell_type": "code",
   "execution_count": 16,
   "metadata": {},
   "outputs": [],
   "source": [
    "for path in paths:\n",
    "    with open(path, \"rb\") as f:\n",
    "        msg = email.message_from_binary_file(f, policy=policy.default)\n",
    "    p = pathlib.Path(path)\n",
    "    newpath = pathlib.Path(*(p.parts[:-2] + (\"v1\",) + p.parts[-2:])).with_suffix(\".txt\")\n",
    "    #print(newpath)\n",
    "    with open(newpath, 'w', encoding=\"utf-8\") as f:\n",
    "        print(\"Date:\", msg[\"date\"], file=f)\n",
    "        print(\"Subject:\", msg[\"subject\"], file=f)\n",
    "        # Some emails do not have plain\n",
    "        print(\"Body:\", msg.get_body((\"plain\", \"html\",)).get_content(), file=f)"
   ]
  },
  {
   "cell_type": "code",
   "execution_count": null,
   "metadata": {
    "collapsed": true
   },
   "outputs": [],
   "source": []
  }
 ],
 "metadata": {
  "kernelspec": {
   "display_name": "Python [conda root]",
   "language": "python",
   "name": "conda-root-py"
  },
  "language_info": {
   "codemirror_mode": {
    "name": "ipython",
    "version": 3
   },
   "file_extension": ".py",
   "mimetype": "text/x-python",
   "name": "python",
   "nbconvert_exporter": "python",
   "pygments_lexer": "ipython3",
   "version": "3.6.3"
  }
 },
 "nbformat": 4,
 "nbformat_minor": 2
}
